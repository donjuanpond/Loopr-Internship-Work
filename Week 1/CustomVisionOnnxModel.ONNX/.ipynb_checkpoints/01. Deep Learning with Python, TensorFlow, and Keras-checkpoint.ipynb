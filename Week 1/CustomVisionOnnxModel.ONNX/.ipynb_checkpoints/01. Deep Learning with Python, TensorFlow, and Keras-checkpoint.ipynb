{
 "cells": [
  {
   "cell_type": "markdown",
   "id": "6a213a2a",
   "metadata": {},
   "source": [
    "# Neural Networks Overview\n",
    "\n",
    "Before we start getting into deep learning, we need to have a balance between treating neural networks like a total black box which we don't understand at all and  understanding every detail of them. Basically, a neural network consists of some sort of input (this might be in the form of $x_1$ $x_2$ $x_3$ or something like that) which the network tries to map to some sort of output. This output might be detecting whether an image is of a dog or of a cat - it would then have two neurons, one for dog and one for cat. A neuron is really just a thing that holds a value between 0 and 1 (the value measures its activation) and is connected to other neurons.\n",
    "\n",
    "Now, our question becomes \"how do we map our input neurons to our output neurons?\" - to do this, we have several hidden layers of neurons we can use (note that a neural network with more than 1 hidden layer can be called a 'deep neural network'). Each of the inputs $x_1$ $x_2$ and $x_3$ gets connected to each of the neurons in the first hidden layer, which then connects to the next layer, so on and so forth to the output neurons. The reason these layers exist are to break down complex things into simpler ones, going all the way down to the input. For example, if you have a network which takes in a grid of pixels as input (each pixel of the input is a neuron with value depending on its grayscale value) and tries to recognize a handwritten digit from it, each layer would group together those individual pixels up layer by layer to be able to tell what digit, from 0 to 9, the input is. In this example, the first hidden layer from the input might group the digit into components such as edges of the number at different areas, the next might group it into shapes such as loops or lines which could make up other digits, and the output would be able to tell which digit it is.\n",
    "\n",
    "Let's zoom in to a specific example where our hope is for one particular neuron in the second layer to detect whether the image has an edge in a specific region of the pixel grid. What parameters should exist here, what dials and knobs should we be able to tweak in order to make the network expressive enough to potentially capture this pattern? What we'll do is assign a weight from our neuron to all the neurons of the first layer (the input neurons, so basically the pixels of input) - these weights are just numbers. Then, what we do is take all the activations from the first layer (all neurons from one layer connect to the next) and compute their weighted sum according to the weights of their connections to our neuron. If we want to detect if there is an edge in a region, we might put positive weights associated with areas where we would expect bright pixels for an edge to be drawn, and negative weights associated with areas where we don't expect pixels - this would help us to generate a numerical representation of whether or not there is an edge there. \n",
    "\n",
    "Since this weighted sum could be any number but we want neuron activations to lie between 0 and 1, we would take our weighted sum and put it through some function that squishes it into this range, be it the sigmoid or ReLU function. However, what if we wnat to make it so that the function isn't active past a weighted sum of 0 like the sigmoid might make it - what if we only want it to be meaningfully active when the weighted sum > 10? We can do this by adding a __bias__ to the weighted sum (in our case negative 10) before it goes into the sigmoid squisher.\n",
    "\n",
    "Machine learning models actually learn through the process of gradient descent and backpropagation, which are explained in detail in [this](https://www.youtube.com/watch?v=IHZwWFHWa-w&list=RDCMUCYO_jab_esuFRV4b17AJtAw&index=2) and [this](https://www.youtube.com/watch?v=Ilg3gGewQ5U&list=RDCMUCYO_jab_esuFRV4b17AJtAw&index=3) video.\n",
    "\n",
    "***\n",
    "\n",
    "Now that we understand the basics of neural networks, we can build one out! We can do this with the tool known as TensorFlow, which we can install with the following code in command prompt:"
   ]
  },
  {
   "cell_type": "raw",
   "id": "6dc65b01",
   "metadata": {},
   "source": [
    "pip install --upgrade tensorflow"
   ]
  },
  {
   "cell_type": "markdown",
   "id": "4ab0b1d8",
   "metadata": {},
   "source": [
    "Let's start off by importing tensorflow and importing a database which we will build our machine learning model off. This database, known as MNIST, actually stores thousands of 28x28 pixel images of handwritten digits from 0 to 9:"
   ]
  },
  {
   "cell_type": "code",
   "execution_count": 18,
   "id": "c76bc4f6",
   "metadata": {
    "scrolled": true
   },
   "outputs": [],
   "source": [
    "import tensorflow as tf"
   ]
  },
  {
   "cell_type": "code",
   "execution_count": 19,
   "id": "ec30dbb3",
   "metadata": {},
   "outputs": [],
   "source": [
    "mnist = tf.keras.datasets.mnist"
   ]
  },
  {
   "cell_type": "markdown",
   "id": "604ab842",
   "metadata": {},
   "source": [
    "Now, our idea is to take these pixel values in our MNIST database and feed them through our neural network, which will then analyze the image and output what digit it thinks the image represenst. Using this MNIST database is kind of a \"hello world\" in machine learning, it's the first thing which everyone learning it does. Now what we want to do is unpack that data into training and testing variables (train-test split):"
   ]
  },
  {
   "cell_type": "code",
   "execution_count": 20,
   "id": "898001a7",
   "metadata": {},
   "outputs": [],
   "source": [
    "#Here we just use simple tuple unpacking to separate our data out\n",
    "(x_train, y_train), (x_test, y_test) = mnist.load_data()"
   ]
  },
  {
   "cell_type": "markdown",
   "id": "77a1e71f",
   "metadata": {},
   "source": [
    "Now, to show what that data actually is, we can use matplotlib (specifically the `.imshow()` function) to show our image:"
   ]
  },
  {
   "cell_type": "code",
   "execution_count": 21,
   "id": "d4699e16",
   "metadata": {
    "scrolled": true
   },
   "outputs": [
    {
     "name": "stdout",
     "output_type": "stream",
     "text": [
      "[[  0   0   0   0   0   0   0   0   0   0   0   0   0   0   0   0   0   0\n",
      "    0   0   0   0   0   0   0   0   0   0]\n",
      " [  0   0   0   0   0   0   0   0   0   0   0   0   0   0   0   0   0   0\n",
      "    0   0   0   0   0   0   0   0   0   0]\n",
      " [  0   0   0   0   0   0   0   0   0   0   0   0   0   0   0   0   0   0\n",
      "    0   0   0   0   0   0   0   0   0   0]\n",
      " [  0   0   0   0   0   0   0   0   0   0   0   0   0   0   0   0   0   0\n",
      "    0   0   0   0   0   0   0   0   0   0]\n",
      " [  0   0   0   0   0   0   0   0   0   0   0   0   0   0   0   0   0   0\n",
      "    0   0   0   0   0   0   0   0   0   0]\n",
      " [  0   0   0   0   0   0   0   0   0   0   0   0   3  18  18  18 126 136\n",
      "  175  26 166 255 247 127   0   0   0   0]\n",
      " [  0   0   0   0   0   0   0   0  30  36  94 154 170 253 253 253 253 253\n",
      "  225 172 253 242 195  64   0   0   0   0]\n",
      " [  0   0   0   0   0   0   0  49 238 253 253 253 253 253 253 253 253 251\n",
      "   93  82  82  56  39   0   0   0   0   0]\n",
      " [  0   0   0   0   0   0   0  18 219 253 253 253 253 253 198 182 247 241\n",
      "    0   0   0   0   0   0   0   0   0   0]\n",
      " [  0   0   0   0   0   0   0   0  80 156 107 253 253 205  11   0  43 154\n",
      "    0   0   0   0   0   0   0   0   0   0]\n",
      " [  0   0   0   0   0   0   0   0   0  14   1 154 253  90   0   0   0   0\n",
      "    0   0   0   0   0   0   0   0   0   0]\n",
      " [  0   0   0   0   0   0   0   0   0   0   0 139 253 190   2   0   0   0\n",
      "    0   0   0   0   0   0   0   0   0   0]\n",
      " [  0   0   0   0   0   0   0   0   0   0   0  11 190 253  70   0   0   0\n",
      "    0   0   0   0   0   0   0   0   0   0]\n",
      " [  0   0   0   0   0   0   0   0   0   0   0   0  35 241 225 160 108   1\n",
      "    0   0   0   0   0   0   0   0   0   0]\n",
      " [  0   0   0   0   0   0   0   0   0   0   0   0   0  81 240 253 253 119\n",
      "   25   0   0   0   0   0   0   0   0   0]\n",
      " [  0   0   0   0   0   0   0   0   0   0   0   0   0   0  45 186 253 253\n",
      "  150  27   0   0   0   0   0   0   0   0]\n",
      " [  0   0   0   0   0   0   0   0   0   0   0   0   0   0   0  16  93 252\n",
      "  253 187   0   0   0   0   0   0   0   0]\n",
      " [  0   0   0   0   0   0   0   0   0   0   0   0   0   0   0   0   0 249\n",
      "  253 249  64   0   0   0   0   0   0   0]\n",
      " [  0   0   0   0   0   0   0   0   0   0   0   0   0   0  46 130 183 253\n",
      "  253 207   2   0   0   0   0   0   0   0]\n",
      " [  0   0   0   0   0   0   0   0   0   0   0   0  39 148 229 253 253 253\n",
      "  250 182   0   0   0   0   0   0   0   0]\n",
      " [  0   0   0   0   0   0   0   0   0   0  24 114 221 253 253 253 253 201\n",
      "   78   0   0   0   0   0   0   0   0   0]\n",
      " [  0   0   0   0   0   0   0   0  23  66 213 253 253 253 253 198  81   2\n",
      "    0   0   0   0   0   0   0   0   0   0]\n",
      " [  0   0   0   0   0   0  18 171 219 253 253 253 253 195  80   9   0   0\n",
      "    0   0   0   0   0   0   0   0   0   0]\n",
      " [  0   0   0   0  55 172 226 253 253 253 253 244 133  11   0   0   0   0\n",
      "    0   0   0   0   0   0   0   0   0   0]\n",
      " [  0   0   0   0 136 253 253 253 212 135 132  16   0   0   0   0   0   0\n",
      "    0   0   0   0   0   0   0   0   0   0]\n",
      " [  0   0   0   0   0   0   0   0   0   0   0   0   0   0   0   0   0   0\n",
      "    0   0   0   0   0   0   0   0   0   0]\n",
      " [  0   0   0   0   0   0   0   0   0   0   0   0   0   0   0   0   0   0\n",
      "    0   0   0   0   0   0   0   0   0   0]\n",
      " [  0   0   0   0   0   0   0   0   0   0   0   0   0   0   0   0   0   0\n",
      "    0   0   0   0   0   0   0   0   0   0]]\n"
     ]
    }
   ],
   "source": [
    "#First we see the raw data of what the first piece of x training data is. This is just a multidimentional array, which is\n",
    "#what a tensor is.\n",
    "print(x_train[0])"
   ]
  },
  {
   "cell_type": "code",
   "execution_count": 22,
   "id": "7b89837f",
   "metadata": {},
   "outputs": [
    {
     "data": {
      "image/png": "[encoded data removed]",
      "text/plain": [
       "<Figure size 432x288 with 1 Axes>"
      ]
     },
     "metadata": {
      "needs_background": "light"
     },
     "output_type": "display_data"
    }
   ],
   "source": [
    "#Now, let's see how this same data looks as an image\n",
    "import matplotlib.pyplot as plt\n",
    "\n",
    "#We have to put in the 'cmap' parameter to tell plt that this is a grayscale image that is not supposed to have any color\n",
    "plt.imshow(x_train[0], cmap = plt.cm.binary)\n",
    "plt.show()"
   ]
  },
  {
   "cell_type": "markdown",
   "id": "567ee90b",
   "metadata": {},
   "source": [
    "Now, we want to normalize (or scale) this data (normalization is just the cleaning and organizing of the data into a standard, or normal, format). We can do this by using the following function:"
   ]
  },
  {
   "cell_type": "code",
   "execution_count": 23,
   "id": "0896b020",
   "metadata": {},
   "outputs": [],
   "source": [
    "#Here, we are basically using Keras (an interface for tensorflow) in order to normalize data. The axis=1 parameter here\n",
    "#shows that we are doing this with x data which goes along horizontally (that is what axis=1 represents)\n",
    "x_train = tf.keras.utils.normalize(x_train, axis=1)"
   ]
  },
  {
   "cell_type": "code",
   "execution_count": 24,
   "id": "7f006921",
   "metadata": {},
   "outputs": [],
   "source": [
    "x_test = tf.keras.utils.normalize(x_test, axis=1)"
   ]
  },
  {
   "cell_type": "code",
   "execution_count": 25,
   "id": "62c936f1",
   "metadata": {},
   "outputs": [
    {
     "data": {
      "image/png": "[encoded data removed]",
      "text/plain": [
       "<Figure size 432x288 with 1 Axes>"
      ]
     },
     "metadata": {
      "needs_background": "light"
     },
     "output_type": "display_data"
    },
    {
     "name": "stdout",
     "output_type": "stream",
     "text": [
      "[[0.         0.         0.         0.         0.         0.\n",
      "  0.         0.         0.         0.         0.         0.\n",
      "  0.         0.         0.         0.         0.         0.\n",
      "  0.         0.         0.         0.         0.         0.\n",
      "  0.         0.         0.         0.        ]\n",
      " [0.         0.         0.         0.         0.         0.\n",
      "  0.         0.         0.         0.         0.         0.\n",
      "  0.         0.         0.         0.         0.         0.\n",
      "  0.         0.         0.         0.         0.         0.\n",
      "  0.         0.         0.         0.        ]\n",
      " [0.         0.         0.         0.         0.         0.\n",
      "  0.         0.         0.         0.         0.         0.\n",
      "  0.         0.         0.         0.         0.         0.\n",
      "  0.         0.         0.         0.         0.         0.\n",
      "  0.         0.         0.         0.        ]\n",
      " [0.         0.         0.         0.         0.         0.\n",
      "  0.         0.         0.         0.         0.         0.\n",
      "  0.         0.         0.         0.         0.         0.\n",
      "  0.         0.         0.         0.         0.         0.\n",
      "  0.         0.         0.         0.        ]\n",
      " [0.         0.         0.         0.         0.         0.\n",
      "  0.         0.         0.         0.         0.         0.\n",
      "  0.         0.         0.         0.         0.         0.\n",
      "  0.         0.         0.         0.         0.         0.\n",
      "  0.         0.         0.         0.        ]\n",
      " [0.         0.         0.         0.         0.         0.\n",
      "  0.         0.         0.         0.         0.         0.\n",
      "  0.00393124 0.02332955 0.02620568 0.02625207 0.17420356 0.17566281\n",
      "  0.28629534 0.05664824 0.51877786 0.71632322 0.77892406 0.89301644\n",
      "  0.         0.         0.         0.        ]\n",
      " [0.         0.         0.         0.         0.         0.\n",
      "  0.         0.         0.05780486 0.06524513 0.16128198 0.22713296\n",
      "  0.22277047 0.32790981 0.36833534 0.3689874  0.34978968 0.32678448\n",
      "  0.368094   0.3747499  0.79066747 0.67980478 0.61494005 0.45002403\n",
      "  0.         0.         0.         0.        ]\n",
      " [0.         0.         0.         0.         0.         0.\n",
      "  0.         0.12250613 0.45858525 0.45852825 0.43408872 0.37314701\n",
      "  0.33153488 0.32790981 0.36833534 0.3689874  0.34978968 0.32420121\n",
      "  0.15214552 0.17865984 0.25626376 0.1573102  0.12298801 0.\n",
      "  0.         0.         0.         0.        ]\n",
      " [0.         0.         0.         0.         0.         0.\n",
      "  0.         0.04500225 0.4219755  0.45852825 0.43408872 0.37314701\n",
      "  0.33153488 0.32790981 0.28826244 0.26543758 0.34149427 0.31128482\n",
      "  0.         0.         0.         0.         0.         0.\n",
      "  0.         0.         0.         0.        ]\n",
      " [0.         0.         0.         0.         0.         0.\n",
      "  0.         0.         0.1541463  0.28272888 0.18358693 0.37314701\n",
      "  0.33153488 0.26569767 0.01601458 0.         0.05945042 0.19891229\n",
      "  0.         0.         0.         0.         0.         0.\n",
      "  0.         0.         0.         0.        ]\n",
      " [0.         0.         0.         0.         0.         0.\n",
      "  0.         0.         0.         0.0253731  0.00171577 0.22713296\n",
      "  0.33153488 0.11664776 0.         0.         0.         0.\n",
      "  0.         0.         0.         0.         0.         0.\n",
      "  0.         0.         0.         0.        ]\n",
      " [0.         0.         0.         0.         0.         0.\n",
      "  0.         0.         0.         0.         0.         0.20500962\n",
      "  0.33153488 0.24625638 0.00291174 0.         0.         0.\n",
      "  0.         0.         0.         0.         0.         0.\n",
      "  0.         0.         0.         0.        ]\n",
      " [0.         0.         0.         0.         0.         0.\n",
      "  0.         0.         0.         0.         0.         0.01622378\n",
      "  0.24897876 0.32790981 0.10191096 0.         0.         0.\n",
      "  0.         0.         0.         0.         0.         0.\n",
      "  0.         0.         0.         0.        ]\n",
      " [0.         0.         0.         0.         0.         0.\n",
      "  0.         0.         0.         0.         0.         0.\n",
      "  0.04586451 0.31235677 0.32757096 0.23335172 0.14931733 0.00129164\n",
      "  0.         0.         0.         0.         0.         0.\n",
      "  0.         0.         0.         0.        ]\n",
      " [0.         0.         0.         0.         0.         0.\n",
      "  0.         0.         0.         0.         0.         0.\n",
      "  0.         0.10498298 0.34940902 0.3689874  0.34978968 0.15370495\n",
      "  0.04089933 0.         0.         0.         0.         0.\n",
      "  0.         0.         0.         0.        ]\n",
      " [0.         0.         0.         0.         0.         0.\n",
      "  0.         0.         0.         0.         0.         0.\n",
      "  0.         0.         0.06551419 0.27127137 0.34978968 0.32678448\n",
      "  0.245396   0.05882702 0.         0.         0.         0.\n",
      "  0.         0.         0.         0.        ]\n",
      " [0.         0.         0.         0.         0.         0.\n",
      "  0.         0.         0.         0.         0.         0.\n",
      "  0.         0.         0.         0.02333517 0.12857881 0.32549285\n",
      "  0.41390126 0.40743158 0.         0.         0.         0.\n",
      "  0.         0.         0.         0.        ]\n",
      " [0.         0.         0.         0.         0.         0.\n",
      "  0.         0.         0.         0.         0.         0.\n",
      "  0.         0.         0.         0.         0.         0.32161793\n",
      "  0.41390126 0.54251585 0.20001074 0.         0.         0.\n",
      "  0.         0.         0.         0.        ]\n",
      " [0.         0.         0.         0.         0.         0.\n",
      "  0.         0.         0.         0.         0.         0.\n",
      "  0.         0.         0.06697006 0.18959827 0.25300993 0.32678448\n",
      "  0.41390126 0.45100715 0.00625034 0.         0.         0.\n",
      "  0.         0.         0.         0.        ]\n",
      " [0.         0.         0.         0.         0.         0.\n",
      "  0.         0.         0.         0.         0.         0.\n",
      "  0.05110617 0.19182076 0.33339444 0.3689874  0.34978968 0.32678448\n",
      "  0.40899334 0.39653769 0.         0.         0.         0.\n",
      "  0.         0.         0.         0.        ]\n",
      " [0.         0.         0.         0.         0.         0.\n",
      "  0.         0.         0.         0.         0.04117838 0.16813739\n",
      "  0.28960162 0.32790981 0.36833534 0.3689874  0.34978968 0.25961929\n",
      "  0.12760592 0.         0.         0.         0.         0.\n",
      "  0.         0.         0.         0.        ]\n",
      " [0.         0.         0.         0.         0.         0.\n",
      "  0.         0.         0.04431706 0.11961607 0.36545809 0.37314701\n",
      "  0.33153488 0.32790981 0.36833534 0.28877275 0.111988   0.00258328\n",
      "  0.         0.         0.         0.         0.         0.\n",
      "  0.         0.         0.         0.        ]\n",
      " [0.         0.         0.         0.         0.         0.\n",
      "  0.05298497 0.42752138 0.4219755  0.45852825 0.43408872 0.37314701\n",
      "  0.33153488 0.25273681 0.11646967 0.01312603 0.         0.\n",
      "  0.         0.         0.         0.         0.         0.\n",
      "  0.         0.         0.         0.        ]\n",
      " [0.         0.         0.         0.         0.37491383 0.56222061\n",
      "  0.66525569 0.63253163 0.48748768 0.45852825 0.43408872 0.359873\n",
      "  0.17428513 0.01425695 0.         0.         0.         0.\n",
      "  0.         0.         0.         0.         0.         0.\n",
      "  0.         0.         0.         0.        ]\n",
      " [0.         0.         0.         0.         0.92705966 0.82698729\n",
      "  0.74473314 0.63253163 0.4084877  0.24466922 0.22648107 0.02359823\n",
      "  0.         0.         0.         0.         0.         0.\n",
      "  0.         0.         0.         0.         0.         0.\n",
      "  0.         0.         0.         0.        ]\n",
      " [0.         0.         0.         0.         0.         0.\n",
      "  0.         0.         0.         0.         0.         0.\n",
      "  0.         0.         0.         0.         0.         0.\n",
      "  0.         0.         0.         0.         0.         0.\n",
      "  0.         0.         0.         0.        ]\n",
      " [0.         0.         0.         0.         0.         0.\n",
      "  0.         0.         0.         0.         0.         0.\n",
      "  0.         0.         0.         0.         0.         0.\n",
      "  0.         0.         0.         0.         0.         0.\n",
      "  0.         0.         0.         0.        ]\n",
      " [0.         0.         0.         0.         0.         0.\n",
      "  0.         0.         0.         0.         0.         0.\n",
      "  0.         0.         0.         0.         0.         0.\n",
      "  0.         0.         0.         0.         0.         0.\n",
      "  0.         0.         0.         0.        ]]\n"
     ]
    }
   ],
   "source": [
    "#When we run this again with the normalized data, we can see that all values have been squished to between 0 and 1 as to \n",
    "#normalize the data and make it readable for our neural network. Normalization takes all the data, subtracts it by the mean,\n",
    "#then divides by either the range or the standard deviation.\n",
    "plt.imshow(x_train[0], cmap = plt.cm.binary)\n",
    "plt.show()\n",
    "print(x_train[0])"
   ]
  },
  {
   "cell_type": "markdown",
   "id": "fb8e6146",
   "metadata": {},
   "source": [
    "Now, let's build a model for our neural network. We use `.Sequential()` because we are making a sequential model - these are appropriate when you have a single input tensor and a single output tensor (which we have here):"
   ]
  },
  {
   "cell_type": "code",
   "execution_count": 30,
   "id": "19906200",
   "metadata": {},
   "outputs": [],
   "source": [
    "model = tf.keras.models.Sequential()"
   ]
  },
  {
   "cell_type": "markdown",
   "id": "2e94a6ff",
   "metadata": {},
   "source": [
    "From here, we can build on our model by using the `.add()` function. Our first layer is going to be the input layer - however, our images are 28x28 right now, we want them to be completely flat instead. To do this, we could use NumPy and reshape, but we could also use a funtion build into keras known as `.layers.Flatten()` - one of the reasons we want this to be a `layers` type is because, when you have a convolutional neural network, at the end there will often be a densely connected layer, so you need to flatten it before that layer:"
   ]
  },
  {
   "cell_type": "code",
   "execution_count": 31,
   "id": "a702e838",
   "metadata": {},
   "outputs": [],
   "source": [
    "model.add(tf.keras.layers.Flatten())"
   ]
  },
  {
   "cell_type": "markdown",
   "id": "29b55762",
   "metadata": {},
   "source": [
    "Now, we want to add two hidden layers. To do this, we can run our model.add() function but for dense layers instead of flattened ones. The first parameter we pass in here is \"how many neurons in the layer\" - we are going to put in 128. After this, the `activation` parameter tells what activation function we wish to use (this would be our squishification function mentioned above) - we pass in `activation=tf.nn.relu` to signify that we are using a ReLU function:"
   ]
  },
  {
   "cell_type": "code",
   "execution_count": 32,
   "id": "dcc804ad",
   "metadata": {},
   "outputs": [],
   "source": [
    "model.add(tf.keras.layers.Dense(128, activation=tf.nn.relu))\n",
    "model.add(tf.keras.layers.Dense(128, activation=tf.nn.relu))"
   ]
  },
  {
   "cell_type": "markdown",
   "id": "d3e708c3",
   "metadata": {},
   "source": [
    "Now, we need to add our final output layer. We do this by adding another dense layer, but instead of 128 output neurons, we want only 10 - this is because we have 10 classifications, one for each digit. Here, we don't want to use ReLU as the activation function as this is a probability distribution (each of the output neurons's values represent the probability for each classification, at least according to the neural network). We will instead use softmax:"
   ]
  },
  {
   "cell_type": "code",
   "execution_count": 33,
   "id": "215d67a8",
   "metadata": {},
   "outputs": [],
   "source": [
    "model.add(tf.keras.layers.Dense(10, activation=tf.nn.softmax))"
   ]
  },
  {
   "cell_type": "markdown",
   "id": "26bb8114",
   "metadata": {},
   "source": [
    "That is our entire model! We are now done with defining the architecture of our model; now what we need to do is define some parameters for the training of this model. We can do this by using the `.compile()` method, which takes the following parameters:\n",
    "\n",
    "* `optimizer`: Here, we pass in the optimizer that we want to use. This is the most complex part of the neural network which basically defines how the network learns. Examples include stochastic gradient descent - we will use \"adam\", which is a form of gradient descent.\n",
    "* `loss`: Here, we input the function for loss (the cost function) which we want our network to minimize\n",
    "* `metrics`: Here, we define the metrics which we want to track (inputted as a list)\n",
    "\n",
    "Here are our inputs for these parameters:\n",
    "\n",
    "* `optimizer`: We use the adam optimizer here, as it is basically the default optimizer used by beginners (similar to ReLU).\n",
    "* `loss`: We will use sparse categorical crossentropy here (in the case of separating into binary classifications such as cats vs dogs, we would use binary instead)\n",
    "* `metrics`: We will just be using accuracy as a metric here."
   ]
  },
  {
   "cell_type": "code",
   "execution_count": 37,
   "id": "21b49310",
   "metadata": {},
   "outputs": [],
   "source": [
    "model.compile(optimizer = 'adam',\n",
    "             loss = 'sparse_categorical_crossentropy',\n",
    "             metrics = ['accuracy'])"
   ]
  },
  {
   "cell_type": "markdown",
   "id": "50d47254",
   "metadata": {},
   "source": [
    "Now, we are ready to train our model. To do this, all we need to do is use the following function, inputting our training data and a parameter called `epochs` - an epoch is just a full pass through your entire training dataset, so if we input `epochs = 1`, our neural network will see each unique training example once. We will be inputting `epochs = 3`, meaning that our data set will be passed over 3 times:"
   ]
  },
  {
   "cell_type": "code",
   "execution_count": 38,
   "id": "ebcc8fae",
   "metadata": {},
   "outputs": [
    {
     "name": "stdout",
     "output_type": "stream",
     "text": [
      "Epoch 1/3\n",
      "1875/1875 [==============================] - 3s 1ms/step - loss: 0.2583 - accuracy: 0.9245\n",
      "Epoch 2/3\n",
      "1875/1875 [==============================] - 2s 1ms/step - loss: 0.1052 - accuracy: 0.9676\n",
      "Epoch 3/3\n",
      "1875/1875 [==============================] - 2s 1ms/step - loss: 0.0719 - accuracy: 0.9774TA: 1s - - ETA: 0s - loss: 0.0\n"
     ]
    },
    {
     "data": {
      "text/plain": [
       "<keras.callbacks.History at 0x159d15a9070>"
      ]
     },
     "execution_count": 38,
     "metadata": {},
     "output_type": "execute_result"
    }
   ],
   "source": [
    "model.fit(x_train, y_train, epochs = 3)"
   ]
  },
  {
   "cell_type": "markdown",
   "id": "ca70d93e",
   "metadata": {},
   "source": [
    "Now, this is looking promising! We are seeing 97.74% accuracy with our method, but the question now becomes, \"is it actually good or did it just overfit?\" The hope is that our neural network learned atual attributes and patterns to determine what defines a digit, but our fear is that it just memorized every single sample we passed through - this is known as overfitting, and happens very commonly. To evaluate our model, we can use tuple unpacking for loss and accuracy on the function `.evaluate()`, which takes in x-test data and y-test data:"
   ]
  },
  {
   "cell_type": "code",
   "execution_count": 42,
   "id": "18ab2ac9",
   "metadata": {},
   "outputs": [
    {
     "name": "stdout",
     "output_type": "stream",
     "text": [
      "313/313 [==============================] - 0s 1ms/step - loss: 0.0940 - accuracy: 0.9719\n",
      "\n",
      "Accuracy: 0.9718999862670898\n",
      "Loss: 0.09395774453878403\n"
     ]
    }
   ],
   "source": [
    "val_loss, val_acc = model.evaluate(x_test, y_test)\n",
    "print(f\"\\nAccuracy: {val_acc}\\nLoss: {val_loss}\")"
   ]
  },
  {
   "cell_type": "markdown",
   "id": "5488e2bb",
   "metadata": {},
   "source": [
    "We see that our accuracy stat is slightly lower than in the learning and our loss is slightly higher, but this is to be expected. However, our accuracy is still very good, at 97.2%! What we don't want to see is accuracy values that are too close between the training and test (this is a sign of underfitting) or accuracy values that are too far apart, meaning there is a large Delta (this is a sign of overfitting). \n",
    "\n",
    "Now, if we want to save a model, we can simply use the `.save()` method, which takes in our model name:"
   ]
  },
  {
   "cell_type": "code",
   "execution_count": 43,
   "id": "1f5ae324",
   "metadata": {},
   "outputs": [
    {
     "name": "stdout",
     "output_type": "stream",
     "text": [
      "INFO:tensorflow:Assets written to: first_ml_model.model\\assets\n"
     ]
    }
   ],
   "source": [
    "model.save('first_ml_model.model')"
   ]
  },
  {
   "cell_type": "markdown",
   "id": "4ecdcf2b",
   "metadata": {},
   "source": [
    "As we can see, it has been written to the assets folder of tensorflow. We can then load this model by using the `.load_model()` method, which takes in the exact name of the model we want to load in:"
   ]
  },
  {
   "cell_type": "code",
   "execution_count": 44,
   "id": "b0145f7f",
   "metadata": {},
   "outputs": [],
   "source": [
    "loaded_model = tf.keras.models.load_model('first_ml_model.model')"
   ]
  },
  {
   "cell_type": "markdown",
   "id": "67beea05",
   "metadata": {},
   "source": [
    "Finally, if we want to make a prediction, we can use the `.predict()` method, which always takes in a list of test x values:"
   ]
  },
  {
   "cell_type": "code",
   "execution_count": 45,
   "id": "5a5d0011",
   "metadata": {},
   "outputs": [],
   "source": [
    "predictions = loaded_model.predict([x_test])"
   ]
  },
  {
   "cell_type": "code",
   "execution_count": 46,
   "id": "2eecf55f",
   "metadata": {},
   "outputs": [
    {
     "name": "stdout",
     "output_type": "stream",
     "text": [
      "[[1.80268223e-09 1.04421485e-08 1.03350226e-06 ... 9.99802768e-01\n",
      "  4.31082405e-08 6.17857040e-06]\n",
      " [5.85763571e-09 2.53258240e-05 9.99972224e-01 ... 2.23710366e-08\n",
      "  1.19533370e-08 1.88827274e-12]\n",
      " [2.52795864e-08 9.99830604e-01 7.77584573e-05 ... 3.53897303e-05\n",
      "  4.08875712e-05 1.19543301e-07]\n",
      " ...\n",
      " [1.39937114e-07 2.87234741e-07 6.30732472e-07 ... 1.34677190e-04\n",
      "  5.29060071e-06 4.97189956e-03]\n",
      " [1.75199574e-07 3.99158893e-07 2.73951066e-08 ... 3.03681311e-08\n",
      "  1.24094313e-05 2.20419460e-09]\n",
      " [1.70837936e-07 1.06234674e-08 4.70553125e-08 ... 1.05700310e-11\n",
      "  3.52905616e-08 2.12970711e-10]]\n"
     ]
    }
   ],
   "source": [
    "print(predictions)"
   ]
  },
  {
   "cell_type": "markdown",
   "id": "8a3ff717",
   "metadata": {},
   "source": [
    "As we can see here, predictions is actually a bunch of one-hot arrays, and that's it (one-hot arrays are arrays where all values are 0 except for one). These are our probability distributions, showing the probability that the input is a certain digit. If we want to see what the predicted value for each testcase is, we have to take the argmax of each testcase - we can do this with NumPy for the first testcase as is shown below:"
   ]
  },
  {
   "cell_type": "code",
   "execution_count": 47,
   "id": "12902e1e",
   "metadata": {},
   "outputs": [
    {
     "name": "stdout",
     "output_type": "stream",
     "text": [
      "7\n"
     ]
    }
   ],
   "source": [
    "import numpy as np\n",
    "\n",
    "print(np.argmax(predictions[0]))"
   ]
  },
  {
   "cell_type": "markdown",
   "id": "485e4b41",
   "metadata": {},
   "source": [
    "We see that our neural network is predicting that the first testcase is an image of a 7. Let's see if it really is a 7 by showing it with matplotlib:"
   ]
  },
  {
   "cell_type": "code",
   "execution_count": 49,
   "id": "95206270",
   "metadata": {},
   "outputs": [
    {
     "data": {
      "image/png": "[encoded data removed]",
      "text/plain": [
       "<Figure size 432x288 with 1 Axes>"
      ]
     },
     "metadata": {
      "needs_background": "light"
     },
     "output_type": "display_data"
    }
   ],
   "source": [
    "plt.imshow(x_test[0], cmap = plt.cm.binary)\n",
    "plt.show()"
   ]
  },
  {
   "cell_type": "markdown",
   "id": "293d3985",
   "metadata": {},
   "source": [
    "As we can see, our prediction has worked!"
   ]
  },
  {
   "cell_type": "code",
   "execution_count": null,
   "id": "4b845728",
   "metadata": {},
   "outputs": [],
   "source": []
  }
 ],
 "metadata": {
  "kernelspec": {
   "display_name": "Python 3",
   "language": "python",
   "name": "python3"
  },
  "language_info": {
   "codemirror_mode": {
    "name": "ipython",
    "version": 3
   },
   "file_extension": ".py",
   "mimetype": "text/x-python",
   "name": "python",
   "nbconvert_exporter": "python",
   "pygments_lexer": "ipython3",
   "version": "3.8.8"
  }
 },
 "nbformat": 4,
 "nbformat_minor": 5
}
