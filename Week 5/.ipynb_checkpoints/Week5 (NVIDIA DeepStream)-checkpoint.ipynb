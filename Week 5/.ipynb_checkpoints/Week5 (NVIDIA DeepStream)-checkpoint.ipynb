{
 "cells": [
  {
   "cell_type": "markdown",
   "id": "597216e2",
   "metadata": {},
   "source": [
    "# 7/15/2022\n",
    "\n",
    "DeepStream Azure IoT Course: https://docs.microsoft.com/en-us/learn/paths/nvidia-deepstream-development-with-microsoft-azure/\n",
    "\n",
    "DeepStream IoT Edge Demo: https://www.youtube.com/watch?v=475nlIETSkw\n",
    "\n",
    "DeepStream Getting Started Guide: https://developer.nvidia.com/deepstream-getting-started\n",
    "\n",
    "DeepStream Explained: https://medium.com/datatobiz/nvidia-deepstream-a-simplistic-guide-226bfc35e5e1\n",
    "\n",
    "DeepStream Triton Inference: https://developer.nvidia.com/blog/deploying-models-from-tensorflow-model-zoo-using-deepstream-and-triton-inference-server/"
   ]
  },
  {
   "cell_type": "markdown",
   "id": "3d99de4b",
   "metadata": {},
   "source": [
    "# 7/18/2022\n",
    "#### Intelligent Video Analytics\n",
    "_https://docs.microsoft.com/en-us/learn/paths/nvidia-deepstream-development-with-microsoft-azure/_<br>\n",
    "Intelligent video analytics are applications that analyze videos captured on IoT edge devices using AI to do things such as object detection, image classification, and object tracking. By using these techniques in combination, you can achieve cascading inference. \n",
    "\n",
    "NVIDIA DeepStream enables you to create IVA applications by defining IVA pipelines using the NVIDIA Graph Composer, where you can define video sources that feed into cascading inference operations.\n",
    "\n",
    "# Have UBUNTU installed on Anand's PC as per techradar guide, need to figure out drivers and installations."
   ]
  },
  {
   "cell_type": "code",
   "execution_count": null,
   "id": "37591fed",
   "metadata": {},
   "outputs": [],
   "source": []
  }
 ],
 "metadata": {
  "kernelspec": {
   "display_name": "Python 3",
   "language": "python",
   "name": "python3"
  },
  "language_info": {
   "codemirror_mode": {
    "name": "ipython",
    "version": 3
   },
   "file_extension": ".py",
   "mimetype": "text/x-python",
   "name": "python",
   "nbconvert_exporter": "python",
   "pygments_lexer": "ipython3",
   "version": "3.8.8"
  }
 },
 "nbformat": 4,
 "nbformat_minor": 5
}
